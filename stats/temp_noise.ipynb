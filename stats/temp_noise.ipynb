{
 "cells": [
  {
   "cell_type": "code",
   "execution_count": 73,
   "metadata": {},
   "outputs": [],
   "source": [
    "import matplotlib.pyplot as plt\n",
    "from matplotlib.colors import to_rgba\n",
    "\n",
    "import seaborn as sns\n",
    "import pandas as pd\n",
    "import plotly.express as px\n",
    "import scipy.stats as stats\n",
    "import numpy as np\n",
    "\n",
    "sns.set_theme(style=\"whitegrid\")\n",
    "sns.set_context('paper')\n",
    "\n",
    "pd.set_option('display.max_rows', 500)"
   ]
  },
  {
   "cell_type": "code",
   "execution_count": 74,
   "metadata": {},
   "outputs": [],
   "source": [
    "temperature = 65\n",
    "data_col = 'execution_time'"
   ]
  },
  {
   "cell_type": "code",
   "execution_count": 75,
   "metadata": {},
   "outputs": [],
   "source": [
    "df1 = pd.read_csv(f'../data/results_{temperature}_1.csv')\n",
    "df2 = pd.read_csv(f'../data/results_{temperature}_2.csv')\n",
    "\n",
    "df1['total_energy'] = df1['pkg_energy'] + df1['dram_energy']\n",
    "df2['total_energy'] = df2['pkg_energy'] + df2['dram_energy']\n",
    "\n",
    "progs = df1['program'].unique()\n",
    "flags = df1['flag'].unique()"
   ]
  },
  {
   "cell_type": "code",
   "execution_count": 76,
   "metadata": {},
   "outputs": [],
   "source": [
    "increase_df = []\n",
    "for flag in flags:\n",
    "    for prog in progs:\n",
    "        base_mean = df1[(df1['flag'] == flag) & (df1['program'] == prog)][data_col].mean()\n",
    "        diff_mean = df2[(df2['flag'] == flag) & (df2['program'] == prog)][data_col].mean()\n",
    "        \n",
    "        increase = ((diff_mean - base_mean) / base_mean) * 100\n",
    "        \n",
    "        increase_df.append([prog, flag, base_mean, diff_mean, increase])\n",
    "increase_df = pd.DataFrame(increase_df, columns=['program', 'flag', 'base_mean', 'diff_mean', 'increase'])"
   ]
  },
  {
   "cell_type": "code",
   "execution_count": 77,
   "metadata": {},
   "outputs": [
    {
     "data": {
      "text/plain": [
       "-5.800776146403544"
      ]
     },
     "execution_count": 77,
     "metadata": {},
     "output_type": "execute_result"
    }
   ],
   "source": [
    "stats.variation(increase_df['increase'])"
   ]
  },
  {
   "cell_type": "markdown",
   "metadata": {},
   "source": [
    "#### Variance\n",
    "\n",
    "| Temperature | Energy Inc.        | Time Inc.          |\n",
    "|:-----------:|-------------------:|-------------------:|\n",
    "| 45          | 1.3090164987239208 | 0.7132850485966169 | \n",
    "| 55          | 37.84628463107378  | 20.92455721942198  |\n",
    "| 65          | 3.938026094934029  | 6.6209690064319044 |\n",
    "\n",
    "#### Coefficient of Variation\n",
    "\n",
    "| Temperature | Energy Inc.        | Time Inc.          |\n",
    "|:-----------:|-------------------:|-------------------:|\n",
    "| 45          | -3.0449100419459483 | -6.97293389488448 | \n",
    "| 55          | 1.1723675321125389 | -1.309311806802708 |\n",
    "| 65          | 3.195480698317402 | -5.800776146403544 |"
   ]
  }
 ],
 "metadata": {
  "kernelspec": {
   "display_name": "Python 3",
   "language": "python",
   "name": "python3"
  },
  "language_info": {
   "codemirror_mode": {
    "name": "ipython",
    "version": 3
   },
   "file_extension": ".py",
   "mimetype": "text/x-python",
   "name": "python",
   "nbconvert_exporter": "python",
   "pygments_lexer": "ipython3",
   "version": "3.10.6"
  },
  "orig_nbformat": 4
 },
 "nbformat": 4,
 "nbformat_minor": 2
}
